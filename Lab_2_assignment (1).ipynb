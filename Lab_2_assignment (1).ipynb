{
  "cells": [
    {
      "cell_type": "code",
      "execution_count": 2,
      "id": "b3ca3dd7-a8e0-42a8-9950-7d4c3fc25a0a",
      "metadata": {
        "id": "b3ca3dd7-a8e0-42a8-9950-7d4c3fc25a0a",
        "outputId": "236ab1c2-9a67-4caf-f9a5-c8ca6abe9738",
        "colab": {
          "base_uri": "https://localhost:8080/"
        }
      },
      "outputs": [
        {
          "output_type": "stream",
          "name": "stdout",
          "text": [
            "Dataset: images - Shape: (250, 128, 128, 3) - Data type: uint8\n",
            "Dataset: labels - Shape: (250,) - Data type: int32\n"
          ]
        }
      ],
      "source": [
        "import h5py\n",
        "\n",
        "# Open the HDF5 file\n",
        "train_path = r'/content/drive/MyDrive/Deep Learning/Tr.h5'\n",
        "with h5py.File(train_path, 'r') as file:\n",
        "    # Recursively print the structure of the file\n",
        "    def print_structure(name, obj):\n",
        "        if isinstance(obj, h5py.Group):\n",
        "            print(f\"Group: {name}\")\n",
        "        elif isinstance(obj, h5py.Dataset):\n",
        "            print(f\"Dataset: {name} - Shape: {obj.shape} - Data type: {obj.dtype}\")\n",
        "\n",
        "    file.visititems(print_structure)"
      ]
    },
    {
      "cell_type": "code",
      "source": [
        "from google.colab import drive\n",
        "drive.mount('/content/drive')"
      ],
      "metadata": {
        "id": "OWxXKgGPHySL"
      },
      "id": "OWxXKgGPHySL",
      "execution_count": null,
      "outputs": []
    },
    {
      "cell_type": "code",
      "execution_count": 3,
      "id": "ad6a82bf-ff1b-4f0f-9e2f-4b4771f92012",
      "metadata": {
        "id": "ad6a82bf-ff1b-4f0f-9e2f-4b4771f92012",
        "outputId": "353c900d-42e7-455a-d3f7-fb1fbf83e2cb",
        "colab": {
          "base_uri": "https://localhost:8080/"
        }
      },
      "outputs": [
        {
          "output_type": "stream",
          "name": "stdout",
          "text": [
            "Dataset: images - Shape: (250, 128, 128, 3) - Data type: uint8\n",
            "Dataset: labels - Shape: (250,) - Data type: int32\n"
          ]
        }
      ],
      "source": [
        "import h5py\n",
        "\n",
        "# Open the HDF5 file\n",
        "test_path = r'/content/drive/MyDrive/Deep Learning/Te.h5'\n",
        "with h5py.File(train_path, 'r') as file:\n",
        "    # Recursively print the structure of the file\n",
        "    def print_structure(name, obj):\n",
        "        if isinstance(obj, h5py.Group):\n",
        "            print(f\"Group: {name}\")\n",
        "        elif isinstance(obj, h5py.Dataset):\n",
        "            print(f\"Dataset: {name} - Shape: {obj.shape} - Data type: {obj.dtype}\")\n",
        "\n",
        "    file.visititems(print_structure)"
      ]
    },
    {
      "cell_type": "code",
      "execution_count": null,
      "id": "24e159b4-2b84-4297-b229-01322422c6b6",
      "metadata": {
        "id": "24e159b4-2b84-4297-b229-01322422c6b6"
      },
      "outputs": [],
      "source": [
        "import numpy as np\n",
        "import h5py\n",
        "import matplotlib.pyplot as plt\n",
        "\n",
        "def load_dataset():\n",
        "    train_dataset = h5py.File('Tr.h5', \"r\")\n",
        "    train_set_x_orig = np.array(train_dataset[\"images\"][:])  # your train set features\n",
        "    train_set_y_orig = np.array(train_dataset[\"labels\"][:])  # your train set labels\n",
        "\n",
        "    test_dataset = h5py.File('Te.h5', \"r\")\n",
        "    test_set_x_orig = np.array(test_dataset[\"images\"][:])  # your test set features\n",
        "    test_set_y_orig = np.array(test_dataset[\"labels\"][:])  # your test set labels\n",
        "\n",
        "    return train_set_x_orig, train_set_y_orig, test_set_x_orig, test_set_y_orig\n",
        "\n",
        "def preprocess_data(X, Y, num_classes):\n",
        "    X = X / 255.0  # Normalize pixel values\n",
        "    Y = np.eye(num_classes)[Y.reshape(-1)]  # One-hot encoding\n",
        "    return X, Y\n",
        "\n",
        "train_set_x_orig, train_set_y_orig, test_set_x_orig, test_set_y_orig = load_dataset()\n",
        "\n",
        "# Preprocess the data\n",
        "num_classes = 5\n",
        "train_x, train_y = preprocess_data(train_set_x_orig, train_set_y_orig, num_classes)\n",
        "test_x, test_y = preprocess_data(test_set_x_orig, test_set_y_orig, num_classes)\n",
        "\n",
        "# Flatten the data\n",
        "train_x_flatten = train_x.reshape(train_x.shape[0], -1).T\n",
        "test_x_flatten = test_x.reshape(test_x.shape[0], -1).T\n"
      ]
    },
    {
      "cell_type": "code",
      "execution_count": null,
      "id": "b759d094-377c-408a-8782-835aed84eb39",
      "metadata": {
        "id": "b759d094-377c-408a-8782-835aed84eb39"
      },
      "outputs": [],
      "source": [
        "def softmax(Z):\n",
        "    exp_Z = np.exp(Z - np.max(Z, axis=0, keepdims=True))\n",
        "    return exp_Z / np.sum(exp_Z, axis=0, keepdims=True)\n"
      ]
    },
    {
      "cell_type": "code",
      "execution_count": null,
      "id": "3ed0b66b-672f-414c-9ff4-2aa0ca747c05",
      "metadata": {
        "id": "3ed0b66b-672f-414c-9ff4-2aa0ca747c05"
      },
      "outputs": [],
      "source": [
        "def compute_cost(AL, Y):\n",
        "    m = Y.shape[1]\n",
        "    cost = -np.sum(np.multiply(Y, np.log(AL))) / m\n",
        "    return np.squeeze(cost)\n"
      ]
    },
    {
      "cell_type": "code",
      "execution_count": null,
      "id": "f48d6655-cc4a-4cb6-bac3-5836f2957235",
      "metadata": {
        "id": "f48d6655-cc4a-4cb6-bac3-5836f2957235"
      },
      "outputs": [],
      "source": [
        "def initialize_parameters_deep(layer_dims):\n",
        "    np.random.seed(1)\n",
        "    parameters = {}\n",
        "    L = len(layer_dims)\n",
        "\n",
        "    for l in range(1, L):\n",
        "        parameters['W' + str(l)] = np.random.randn(layer_dims[l], layer_dims[l - 1]) * 0.01\n",
        "        parameters['b' + str(l)] = np.zeros((layer_dims[l], 1))\n",
        "\n",
        "    return parameters\n",
        "\n",
        "def linear_forward(A, W, b):\n",
        "    Z = np.dot(W, A) + b\n",
        "    return Z\n",
        "\n",
        "def linear_activation_forward(A_prev, W, b, activation):\n",
        "    Z = linear_forward(A_prev, W, b)\n",
        "    if activation == \"relu\":\n",
        "        A = np.maximum(0, Z)\n",
        "    elif activation == \"softmax\":\n",
        "        A = softmax(Z)\n",
        "    return A, Z\n",
        "\n",
        "def L_model_forward(X, parameters):\n",
        "    A = X\n",
        "    L = len(parameters) // 2\n",
        "    caches = []\n",
        "\n",
        "    for l in range(1, L):\n",
        "        A_prev = A\n",
        "        A, Z = linear_activation_forward(A_prev, parameters['W' + str(l)], parameters['b' + str(l)], \"relu\")\n",
        "        caches.append((A_prev, parameters['W' + str(l)], parameters['b' + str(l)], Z))\n",
        "\n",
        "    AL, ZL = linear_activation_forward(A, parameters['W' + str(L)], parameters['b' + str(L)], \"softmax\")\n",
        "    caches.append((A, parameters['W' + str(L)], parameters['b' + str(L)], ZL))\n",
        "\n",
        "    return AL, caches\n",
        "\n",
        "def linear_backward(dZ, A_prev, W, b):\n",
        "    m = A_prev.shape[1]\n",
        "    dW = np.dot(dZ, A_prev.T) / m\n",
        "    db = np.sum(dZ, axis=1, keepdims=True) / m\n",
        "    dA_prev = np.dot(W.T, dZ)\n",
        "    return dA_prev, dW, db\n",
        "\n",
        "def linear_activation_backward(dA, cache, activation):\n",
        "    A_prev, W, b, Z = cache\n",
        "\n",
        "    if activation == \"relu\":\n",
        "        dZ = np.array(dA, copy=True)\n",
        "        dZ[Z <= 0] = 0\n",
        "    elif activation == \"softmax\":\n",
        "        dZ = dA\n",
        "\n",
        "    dA_prev, dW, db = linear_backward(dZ, A_prev, W, b)\n",
        "    return dA_prev, dW, db\n",
        "\n",
        "def L_model_backward(AL, Y, caches):\n",
        "    grads = {}\n",
        "    L = len(caches)\n",
        "    m = AL.shape[1]\n",
        "\n",
        "    dAL = AL - Y\n",
        "\n",
        "    current_cache = caches[-1]\n",
        "    grads[\"dA\" + str(L)], grads[\"dW\" + str(L)], grads[\"db\" + str(L)] = linear_activation_backward(dAL, current_cache, \"softmax\")\n",
        "\n",
        "    for l in reversed(range(L-1)):\n",
        "        current_cache = caches[l]\n",
        "        dA_prev_temp, dW_temp, db_temp = linear_activation_backward(grads[\"dA\" + str(l+2)], current_cache, \"relu\")\n",
        "        grads[\"dA\" + str(l+1)] = dA_prev_temp\n",
        "        grads[\"dW\" + str(l+1)] = dW_temp\n",
        "        grads[\"db\" + str(l+1)] = db_temp\n",
        "\n",
        "    return grads\n",
        "\n",
        "def update_parameters(parameters, grads, learning_rate):\n",
        "    L = len(parameters) // 2\n",
        "\n",
        "    for l in range(L):\n",
        "        parameters[\"W\" + str(l+1)] -= learning_rate * grads[\"dW\" + str(l+1)]\n",
        "        parameters[\"b\" + str(l+1)] -= learning_rate * grads[\"db\" + str(l+1)]\n",
        "\n",
        "    return parameters\n"
      ]
    },
    {
      "cell_type": "code",
      "execution_count": null,
      "id": "7a7e1bd8-2d45-4211-9f07-e9fe6c8c0e22",
      "metadata": {
        "id": "7a7e1bd8-2d45-4211-9f07-e9fe6c8c0e22"
      },
      "outputs": [],
      "source": [
        "def L_layer_model(X, Y, layers_dims, learning_rate, num_iterations, print_cost):\n",
        "    np.random.seed(1)\n",
        "    costs = []\n",
        "    parameters = initialize_parameters_deep(layers_dims)\n",
        "\n",
        "    for i in range(0, num_iterations):\n",
        "        AL, caches = L_model_forward(X, parameters)\n",
        "        cost = compute_cost(AL, Y)\n",
        "        grads = L_model_backward(AL, Y, caches)\n",
        "        parameters = update_parameters(parameters, grads, learning_rate)\n",
        "\n",
        "        if print_cost and i % 100 == 0:\n",
        "            print(f\"Cost after iteration {i}: {cost}\")\n",
        "        if i % 100 == 0:\n",
        "            costs.append(cost)\n",
        "\n",
        "    plt.plot(np.squeeze(costs))\n",
        "    plt.ylabel('Cost')\n",
        "    plt.xlabel('Iterations (per hundreds)')\n",
        "    plt.title(f\"Learning rate = {learning_rate}\")\n",
        "    plt.show()\n",
        "\n",
        "    return parameters"
      ]
    },
    {
      "cell_type": "code",
      "execution_count": null,
      "id": "ad19f419-1ee5-4d0f-b739-d97abd0d91ff",
      "metadata": {
        "id": "ad19f419-1ee5-4d0f-b739-d97abd0d91ff"
      },
      "outputs": [],
      "source": [
        "def predict(X, parameters):\n",
        "    AL, _ = L_model_forward(X, parameters)\n",
        "    predictions = np.argmax(AL, axis=0)\n",
        "    return predictions"
      ]
    },
    {
      "cell_type": "code",
      "execution_count": null,
      "id": "13468d9a-c8bc-4a3a-90bf-faddd91d0d52",
      "metadata": {
        "id": "13468d9a-c8bc-4a3a-90bf-faddd91d0d52",
        "outputId": "93bafd9e-44c2-4d15-af59-a977dac4999f"
      },
      "outputs": [
        {
          "name": "stdout",
          "output_type": "stream",
          "text": [
            "Cost after iteration 0: 1.6095547093839042\n",
            "Cost after iteration 100: 1.6091701627705748\n",
            "Cost after iteration 200: 1.6086869859206043\n",
            "Cost after iteration 300: 1.6077855848300495\n",
            "Cost after iteration 400: 1.6056416212932845\n",
            "Cost after iteration 500: 1.598757233942481\n",
            "Cost after iteration 600: 1.571657238981417\n",
            "Cost after iteration 700: 1.5137292677599257\n",
            "Cost after iteration 800: 1.410249209350955\n",
            "Cost after iteration 900: 1.1863162367684497\n",
            "Cost after iteration 1000: 0.9721459264638559\n",
            "Cost after iteration 1100: 0.8260777682607656\n",
            "Cost after iteration 1200: 0.5453117872983728\n",
            "Cost after iteration 1300: 0.4681780247748502\n",
            "Cost after iteration 1400: 0.3052504398571996\n",
            "Cost after iteration 1500: 1.1713654145435521\n",
            "Cost after iteration 1600: 0.18758927166466097\n",
            "Cost after iteration 1700: 1.400851633774586\n",
            "Cost after iteration 1800: 0.07755786076005307\n",
            "Cost after iteration 1900: 0.05168582655821546\n",
            "Cost after iteration 2000: 0.03419712408979455\n",
            "Cost after iteration 2100: 0.024163258672409607\n",
            "Cost after iteration 2200: 0.018215623929906243\n",
            "Cost after iteration 2300: 0.014442871980109665\n",
            "Cost after iteration 2400: 0.011852878007881313\n",
            "Cost after iteration 2500: 0.009972796736793577\n",
            "Cost after iteration 2600: 0.008554247281899938\n",
            "Cost after iteration 2700: 0.007443610294177404\n",
            "Cost after iteration 2800: 0.0065427320913697415\n",
            "Cost after iteration 2900: 0.005809885794832626\n",
            "Cost after iteration 3000: 0.005194057119727034\n",
            "Cost after iteration 3100: 0.004683881287856533\n",
            "Cost after iteration 3200: 0.004246915143188801\n",
            "Cost after iteration 3300: 0.003897204300008604\n",
            "Cost after iteration 3400: 0.003599291435826593\n",
            "Cost after iteration 3500: 0.0033426771862724767\n",
            "Cost after iteration 3600: 0.003104806785311535\n",
            "Cost after iteration 3700: 0.002894439421608301\n",
            "Cost after iteration 3800: 0.002710715514221549\n",
            "Cost after iteration 3900: 0.0025493387161128816\n",
            "Cost after iteration 4000: 0.0024075372742867955\n",
            "Cost after iteration 4100: 0.0022815871527502984\n",
            "Cost after iteration 4200: 0.002167074909843094\n",
            "Cost after iteration 4300: 0.0020626366231023307\n",
            "Cost after iteration 4400: 0.0019670610913631453\n",
            "Cost after iteration 4500: 0.0018792771287812133\n",
            "Cost after iteration 4600: 0.0017983492141171826\n",
            "Cost after iteration 4700: 0.0017235231539634124\n",
            "Cost after iteration 4800: 0.0016541477030330787\n",
            "Cost after iteration 4900: 0.0015896811796602987\n"
          ]
        },
        {
          "data": {
            "image/png": "[encoded data removed]",
            "text/plain": [
              "<Figure size 640x480 with 1 Axes>"
            ]
          },
          "metadata": {},
          "output_type": "display_data"
        }
      ],
      "source": [
        "layers_dims = [train_x_flatten.shape[0], 64, 32,5]\n",
        "parameters = L_layer_model(train_x_flatten, train_y.T, layers_dims, learning_rate=0.01, num_iterations=5000, print_cost=True)"
      ]
    },
    {
      "cell_type": "code",
      "execution_count": null,
      "id": "da2be803-282e-4b39-9885-9f9bcb292983",
      "metadata": {
        "id": "da2be803-282e-4b39-9885-9f9bcb292983",
        "outputId": "b1fb57c3-6c5b-49d8-e6ec-ed4583f24690"
      },
      "outputs": [
        {
          "name": "stdout",
          "output_type": "stream",
          "text": [
            "Train Accuracy: 100.0%\n",
            "Test Accuracy: 38.0%\n"
          ]
        }
      ],
      "source": [
        "train_pred = predict(train_x_flatten, parameters)\n",
        "test_pred = predict(test_x_flatten, parameters)\n",
        "\n",
        "train_accuracy = np.mean(train_pred == np.argmax(train_y, axis=1)) * 100\n",
        "test_accuracy = np.mean(test_pred == np.argmax(test_y, axis=1)) * 100\n",
        "\n",
        "print(f\"Train Accuracy: {train_accuracy}%\")\n",
        "print(f\"Test Accuracy: {test_accuracy}%\")"
      ]
    },
    {
      "cell_type": "code",
      "execution_count": null,
      "id": "b218b00f-ea04-4b79-b8d7-b00e572b613b",
      "metadata": {
        "id": "b218b00f-ea04-4b79-b8d7-b00e572b613b"
      },
      "outputs": [],
      "source": []
    }
  ],
  "metadata": {
    "kernelspec": {
      "display_name": "Python 3 (ipykernel)",
      "language": "python",
      "name": "python3"
    },
    "language_info": {
      "codemirror_mode": {
        "name": "ipython",
        "version": 3
      },
      "file_extension": ".py",
      "mimetype": "text/x-python",
      "name": "python",
      "nbconvert_exporter": "python",
      "pygments_lexer": "ipython3",
      "version": "3.12.4"
    },
    "colab": {
      "provenance": []
    }
  },
  "nbformat": 4,
  "nbformat_minor": 5
}